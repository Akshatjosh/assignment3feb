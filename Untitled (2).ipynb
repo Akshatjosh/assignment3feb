{
 "cells": [
  {
   "cell_type": "code",
   "execution_count": 10,
   "id": "4e54a615-e76f-4265-a060-badef8360e98",
   "metadata": {},
   "outputs": [],
   "source": [
    "Ques:- Which keyword is used to create a function? Create a function to return a list of odd numbers in the\n",
    "range of 1 to 25.\n",
    "def l_odd() :\n",
    "    l=[]\n",
    "    for i in range(1,25):\n",
    "        if i %2!=0 :\n",
    "            l.append(i)\n",
    "    return l"
   ]
  },
  {
   "cell_type": "code",
   "execution_count": 11,
   "id": "0a544b79-25d1-420b-b1f0-8e04b10cbec1",
   "metadata": {},
   "outputs": [
    {
     "data": {
      "text/plain": [
       "[1, 3, 5, 7, 9, 11, 13, 15, 17, 19, 21, 23]"
      ]
     },
     "execution_count": 11,
     "metadata": {},
     "output_type": "execute_result"
    }
   ],
   "source": [
    "l"
   ]
  },
  {
   "cell_type": "code",
   "execution_count": 12,
   "id": "4b42e2dd-c4db-4638-97c7-36792f5938f4",
   "metadata": {},
   "outputs": [],
   "source": [
    "Ques:-Why *args and **kwargs is used in some functions? Create a function each for *args and **kwargs\n",
    "to demonstrate their use.\n",
    "*args and **kwargs are used in Python functions to pass a variable number of arguments to a function.\n",
    "\n",
    "*args allows us to pass a variable number of positional arguments to a function. The arguments are packed into a tuple, and we can access them using index notation.\n",
    "def print_args(*args):\n",
    "    for arg in args:\n",
    "        print(arg)\n"
   ]
  },
  {
   "cell_type": "code",
   "execution_count": 13,
   "id": "49c39bc2-6500-400e-84e7-5535a9d36dc6",
   "metadata": {},
   "outputs": [
    {
     "name": "stdout",
     "output_type": "stream",
     "text": [
      "1\n",
      "2\n",
      "3\n",
      "hello\n",
      "True\n"
     ]
    }
   ],
   "source": [
    "print_args(1, 2, 3, \"hello\", True)\n"
   ]
  },
  {
   "cell_type": "code",
   "execution_count": 14,
   "id": "fdfd6b48-5bcf-4371-87c6-63a975afbca0",
   "metadata": {},
   "outputs": [],
   "source": [
    "**kwargs allows us to pass a variable number of keyword arguments to a function. The arguments are packed into a dictionary, and we can access them using dictionary notation.\n",
    "def print_kwargs(**kwargs):\n",
    "    for key, value in kwargs.items():\n",
    "        print(f\"{key}: {value}\")\n"
   ]
  },
  {
   "cell_type": "code",
   "execution_count": 16,
   "id": "d0f7dad4-4600-427b-bd60-7cd5e3da792f",
   "metadata": {},
   "outputs": [
    {
     "name": "stdout",
     "output_type": "stream",
     "text": [
      "name: Akshat\n",
      "age: 21\n",
      "city: Dehradun\n"
     ]
    }
   ],
   "source": [
    "print_kwargs(name=\"Akshat\", age=21, city=\"Dehradun\")\n"
   ]
  },
  {
   "cell_type": "code",
   "execution_count": 17,
   "id": "2b69afa3-60d7-4385-9749-46c70ab38f9d",
   "metadata": {},
   "outputs": [
    {
     "name": "stdout",
     "output_type": "stream",
     "text": [
      "2\n",
      "4\n",
      "6\n",
      "8\n",
      "10\n"
     ]
    }
   ],
   "source": [
    "Ques:- What is an iterator in python? Name the method used to initialise the iterator object and the method\n",
    "used for iteration. Use these methods to print the first five elements of the given list [2, 4, 6, 8, 10, 12, 14,\n",
    "16, 18, 20].\n",
    "Ans:-An iterator in Python is an object that can be iterated (looped) upon. An iterator is used to get the next value (or the next item) from a sequence.\n",
    "\n",
    "To initialise an iterator object, we use the iter() function. This function takes an iterable object (such as a list or a tuple) as an argument and returns an iterator object.\n",
    "\n",
    "To iterate over the elements of an iterator object, we use the next() function. This function returns the next element from the iterator.\n",
    "l = [2, 4, 6, 8, 10, 12, 14, 16, 18, 20]\n",
    "my_iterator = iter(l)\n",
    "\n",
    "for i in range(5):\n",
    "    print(next(my_iterator))\n"
   ]
  },
  {
   "cell_type": "markdown",
   "id": "e303c778-fe1b-439e-8e16-3b0b9cd792bc",
   "metadata": {},
   "source": [
    "Ques:- What is a generator function in python? Why yield keyword is used? Give an example of a generator\n",
    "function.\n",
    "Ans:- A generator function in Python is a special type of function that returns an iterator, which can be used to generate a sequence of values on-the-fly. Instead of returning a single value, like a regular function, a generator function can yield a series of values, one at a time, using the yield keyword.\n",
    "\n",
    "The yield keyword is used to return a value from the generator function and pause the execution of the function, saving its state. When the generator function is called again, it resumes from where it left off and continues to generate the next value in the sequence.\n",
    "def fibonacci():\n",
    "    a, b = 0, 1\n",
    "    while True:\n",
    "        yield a\n",
    "        a, b = b, a + b\n"
   ]
  },
  {
   "cell_type": "code",
   "execution_count": 19,
   "id": "f14e6324-52f9-46c0-86fa-ef4cde002eca",
   "metadata": {},
   "outputs": [],
   "source": [
    "Ques:- Create a generator function for prime numbers less than 1000. Use the next() method to print the\n",
    "first 20 prime numbers.\n",
    "def primes():\n",
    "    yield 2\n",
    "    prime_list = [2]\n",
    "    num = 3\n",
    "    while num < 1000:\n",
    "        is_prime = True\n",
    "        for prime in prime_list:\n",
    "            if num % prime == 0:\n",
    "                is_prime = False\n",
    "                break\n",
    "        if is_prime:\n",
    "            yield num\n",
    "            prime_list.append(num)\n",
    "        num += 2\n"
   ]
  },
  {
   "cell_type": "code",
   "execution_count": 20,
   "id": "752c246e-c693-43e5-8df0-084aaf1f1aa6",
   "metadata": {},
   "outputs": [
    {
     "name": "stdout",
     "output_type": "stream",
     "text": [
      "2\n",
      "3\n",
      "5\n",
      "7\n",
      "11\n",
      "13\n",
      "17\n",
      "19\n",
      "23\n",
      "29\n",
      "31\n",
      "37\n",
      "41\n",
      "43\n",
      "47\n",
      "53\n",
      "59\n",
      "61\n",
      "67\n",
      "71\n"
     ]
    }
   ],
   "source": [
    "prime_gen = primes()\n",
    "\n",
    "for i in range(20):\n",
    "    print(next(prime_gen))\n"
   ]
  },
  {
   "cell_type": "code",
   "execution_count": 21,
   "id": "0275d22a-b4f6-4d76-b810-0cdf12ecb511",
   "metadata": {},
   "outputs": [
    {
     "name": "stdout",
     "output_type": "stream",
     "text": [
      "0\n",
      "1\n",
      "1\n",
      "2\n",
      "3\n",
      "5\n",
      "8\n",
      "13\n",
      "21\n",
      "34\n"
     ]
    }
   ],
   "source": [
    "Ques:- Write a python program to print the first 10 Fibonacci numbers using a while loop.\n",
    "a, b = 0, 1\n",
    "count = 0\n",
    "\n",
    "while count < 10:\n",
    "    print(a)\n",
    "    c = a + b\n",
    "    a = b\n",
    "    b = c\n",
    "    count += 1\n"
   ]
  },
  {
   "cell_type": "code",
   "execution_count": 23,
   "id": "6aa24ccb-95da-4092-b1c7-22a5f667c5a3",
   "metadata": {},
   "outputs": [
    {
     "name": "stdout",
     "output_type": "stream",
     "text": [
      "['p', 'w', 's', 'k', 'i', 'l', 'l', 's']\n"
     ]
    }
   ],
   "source": [
    "Ques:- Write a List Comprehension to iterate through the given string: ‘pwskills’.\n",
    "Expected output: ['p', 'w', 's', 'k', 'i', 'l', 'l', 's']\n",
    "s = 'pwskills'\n",
    "result = [s[i] for i in range(len(s)) ]\n",
    "print(result)\n"
   ]
  },
  {
   "cell_type": "code",
   "execution_count": 25,
   "id": "f2bd9b34-29f1-4b97-a9ec-8db51371c7e8",
   "metadata": {},
   "outputs": [
    {
     "name": "stdin",
     "output_type": "stream",
     "text": [
      "Enter a number:  121\n"
     ]
    },
    {
     "name": "stdout",
     "output_type": "stream",
     "text": [
      "121 is a palindrome number\n"
     ]
    }
   ],
   "source": [
    "num = int(input(\"Enter a number: \"))\n",
    "temp = num\n",
    "reverse = 0\n",
    "\n",
    "while temp > 0:\n",
    "    digit = temp % 10\n",
    "    reverse = (reverse * 10) + digit\n",
    "    temp = temp // 10\n",
    "\n",
    "if num == reverse:\n",
    "    print(num, \"is a palindrome number\")\n",
    "else:\n",
    "    print(num, \"is not a palindrome number\")\n"
   ]
  },
  {
   "cell_type": "code",
   "execution_count": null,
   "id": "9e942555-ae84-4ad2-ba5b-d05628d1efa4",
   "metadata": {},
   "outputs": [],
   "source": []
  }
 ],
 "metadata": {
  "kernelspec": {
   "display_name": "Python 3 (ipykernel)",
   "language": "python",
   "name": "python3"
  },
  "language_info": {
   "codemirror_mode": {
    "name": "ipython",
    "version": 3
   },
   "file_extension": ".py",
   "mimetype": "text/x-python",
   "name": "python",
   "nbconvert_exporter": "python",
   "pygments_lexer": "ipython3",
   "version": "3.10.6"
  }
 },
 "nbformat": 4,
 "nbformat_minor": 5
}
